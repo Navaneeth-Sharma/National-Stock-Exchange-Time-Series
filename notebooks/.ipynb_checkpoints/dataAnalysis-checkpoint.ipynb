{
 "cells": [
  {
   "cell_type": "code",
   "execution_count": 1,
   "id": "7e974a6f",
   "metadata": {},
   "outputs": [],
   "source": [
    "import pandas as pd\n",
    "import numpy as np\n",
    "import matplotlib.pyplot as plt\n",
    "import seaborn as sns"
   ]
  },
  {
   "cell_type": "markdown",
   "id": "c0e4b3ef",
   "metadata": {},
   "source": [
    "### Data Analysis of the Nifty "
   ]
  },
  {
   "cell_type": "code",
   "execution_count": 4,
   "id": "c07a4878",
   "metadata": {},
   "outputs": [],
   "source": [
    "nifty_df = pd.read_csv(\"../data/nifty_it_index.csv\")"
   ]
  },
  {
   "cell_type": "code",
   "execution_count": 5,
   "id": "3a1181b1",
   "metadata": {},
   "outputs": [
    {
     "data": {
      "text/html": [
       "<div>\n",
       "<style scoped>\n",
       "    .dataframe tbody tr th:only-of-type {\n",
       "        vertical-align: middle;\n",
       "    }\n",
       "\n",
       "    .dataframe tbody tr th {\n",
       "        vertical-align: top;\n",
       "    }\n",
       "\n",
       "    .dataframe thead th {\n",
       "        text-align: right;\n",
       "    }\n",
       "</style>\n",
       "<table border=\"1\" class=\"dataframe\">\n",
       "  <thead>\n",
       "    <tr style=\"text-align: right;\">\n",
       "      <th></th>\n",
       "      <th>Date</th>\n",
       "      <th>Open</th>\n",
       "      <th>High</th>\n",
       "      <th>Low</th>\n",
       "      <th>Close</th>\n",
       "      <th>Volume</th>\n",
       "      <th>Turnover</th>\n",
       "    </tr>\n",
       "  </thead>\n",
       "  <tbody>\n",
       "    <tr>\n",
       "      <th>0</th>\n",
       "      <td>2015-01-01</td>\n",
       "      <td>11214.80</td>\n",
       "      <td>11235.75</td>\n",
       "      <td>11166.35</td>\n",
       "      <td>11215.70</td>\n",
       "      <td>4246150</td>\n",
       "      <td>3.575100e+09</td>\n",
       "    </tr>\n",
       "    <tr>\n",
       "      <th>1</th>\n",
       "      <td>2015-01-02</td>\n",
       "      <td>11214.65</td>\n",
       "      <td>11399.10</td>\n",
       "      <td>11214.65</td>\n",
       "      <td>11372.10</td>\n",
       "      <td>10004862</td>\n",
       "      <td>9.645600e+09</td>\n",
       "    </tr>\n",
       "    <tr>\n",
       "      <th>2</th>\n",
       "      <td>2015-01-05</td>\n",
       "      <td>11369.35</td>\n",
       "      <td>11433.75</td>\n",
       "      <td>11186.95</td>\n",
       "      <td>11248.55</td>\n",
       "      <td>8858018</td>\n",
       "      <td>1.059000e+10</td>\n",
       "    </tr>\n",
       "    <tr>\n",
       "      <th>3</th>\n",
       "      <td>2015-01-06</td>\n",
       "      <td>11186.10</td>\n",
       "      <td>11186.10</td>\n",
       "      <td>10909.00</td>\n",
       "      <td>10959.90</td>\n",
       "      <td>12515739</td>\n",
       "      <td>1.364500e+10</td>\n",
       "    </tr>\n",
       "    <tr>\n",
       "      <th>4</th>\n",
       "      <td>2015-01-07</td>\n",
       "      <td>11013.20</td>\n",
       "      <td>11042.35</td>\n",
       "      <td>10889.55</td>\n",
       "      <td>10916.00</td>\n",
       "      <td>10976356</td>\n",
       "      <td>1.203440e+10</td>\n",
       "    </tr>\n",
       "  </tbody>\n",
       "</table>\n",
       "</div>"
      ],
      "text/plain": [
       "         Date      Open      High       Low     Close    Volume      Turnover\n",
       "0  2015-01-01  11214.80  11235.75  11166.35  11215.70   4246150  3.575100e+09\n",
       "1  2015-01-02  11214.65  11399.10  11214.65  11372.10  10004862  9.645600e+09\n",
       "2  2015-01-05  11369.35  11433.75  11186.95  11248.55   8858018  1.059000e+10\n",
       "3  2015-01-06  11186.10  11186.10  10909.00  10959.90  12515739  1.364500e+10\n",
       "4  2015-01-07  11013.20  11042.35  10889.55  10916.00  10976356  1.203440e+10"
      ]
     },
     "execution_count": 5,
     "metadata": {},
     "output_type": "execute_result"
    }
   ],
   "source": [
    "nifty_df.head()"
   ]
  },
  {
   "cell_type": "code",
   "execution_count": null,
   "id": "2f73da17",
   "metadata": {},
   "outputs": [],
   "source": []
  },
  {
   "cell_type": "code",
   "execution_count": null,
   "id": "9a7a768f",
   "metadata": {},
   "outputs": [],
   "source": []
  }
 ],
 "metadata": {
  "kernelspec": {
   "display_name": "Python 3 (ipykernel)",
   "language": "python",
   "name": "python3"
  },
  "language_info": {
   "codemirror_mode": {
    "name": "ipython",
    "version": 3
   },
   "file_extension": ".py",
   "mimetype": "text/x-python",
   "name": "python",
   "nbconvert_exporter": "python",
   "pygments_lexer": "ipython3",
   "version": "3.7.0"
  }
 },
 "nbformat": 4,
 "nbformat_minor": 5
}
